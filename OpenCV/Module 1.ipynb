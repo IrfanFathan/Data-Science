{
 "cells": [
  {
   "cell_type": "markdown",
   "id": "17cf487b-1d92-4735-9e85-f80946050dea",
   "metadata": {},
   "source": [
    "# **AGENDA**\n",
    "***This notebook will be cover how to read,use,save images by using OpenCV Libery and its good sart to leran **Computer Vision** progamme***\n",
    "* Read images by **OpenCV**.\n",
    "* Check ***imegas attribitubes*** [Datatypes and Shape].\n",
    "* Maritx representaion of images\n",
    "* Colour images and Spliting/Merging by **image channel**\n",
    "* Displaying images by using **Matplotlib**"
   ]
  },
  {
   "cell_type": "markdown",
   "id": "986c36ba-26a2-4f6b-b911-b8b856977649",
   "metadata": {},
   "source": [
    "<div style = \"height: 20px; width:100%; background-image:linear-gradient(to right,green,blue);\"></div>"
   ]
  },
  {
   "cell_type": "markdown",
   "id": "c6056567-b789-4286-bd99-80340692ac03",
   "metadata": {},
   "source": [
    "### **Import Liberies**"
   ]
  },
  {
   "cell_type": "code",
   "execution_count": null,
   "id": "0eb1df0d-771a-4dcc-bb70-f17fbdf688fb",
   "metadata": {},
   "outputs": [],
   "source": [
    "import cv2\n",
    "import numpy as np\n",
    "import matplotlib.pyplot as plt"
   ]
  },
  {
   "cell_type": "code",
   "execution_count": 4,
   "id": "2a246988-4833-49e6-8ea9-bfd65cfd3c75",
   "metadata": {
    "editable": true,
    "slideshow": {
     "slide_type": "skip"
    },
    "tags": []
   },
   "outputs": [
    {
     "name": "stdout",
     "output_type": "stream",
     "text": [
      "4.8.1\n",
      "1.26.1\n",
      "1.26.1\n"
     ]
    }
   ],
   "source": [
    "#verify the liberies\n",
    "print(cv2.__version__)\n",
    "print(np.__version__)\n",
    "print(np.__version__)"
   ]
  },
  {
   "cell_type": "markdown",
   "id": "f7ef780c-9f3b-4b18-8391-b8d9be9e0b36",
   "metadata": {},
   "source": [
    "<div style = \"height: 20px; width:100%; background-image:linear-gradient(to right,green,blue);\"></div>"
   ]
  },
  {
   "cell_type": "markdown",
   "id": "b26165c7-fa9e-49b4-ac58-cdc25a7c194d",
   "metadata": {},
   "source": [
    "### SECTION - 1 Read images  "
   ]
  },
  {
   "cell_type": "code",
   "execution_count": null,
   "id": "34ea8257-e6f1-454f-9cc5-6a89264f7def",
   "metadata": {},
   "outputs": [],
   "source": []
  },
  {
   "cell_type": "code",
   "execution_count": null,
   "id": "9cf8146a-3666-4685-b1d4-0e6cf7ede6b1",
   "metadata": {
    "editable": true,
    "slideshow": {
     "slide_type": "subslide"
    },
    "tags": []
   },
   "outputs": [],
   "source": []
  }
 ],
 "metadata": {
  "kernelspec": {
   "display_name": "Python 3 (ipykernel)",
   "language": "python",
   "name": "python3"
  },
  "language_info": {
   "codemirror_mode": {
    "name": "ipython",
    "version": 3
   },
   "file_extension": ".py",
   "mimetype": "text/x-python",
   "name": "python",
   "nbconvert_exporter": "python",
   "pygments_lexer": "ipython3",
   "version": "3.11.4"
  },
  "toc": {
   "base_numbering": -4
  }
 },
 "nbformat": 4,
 "nbformat_minor": 5
}
