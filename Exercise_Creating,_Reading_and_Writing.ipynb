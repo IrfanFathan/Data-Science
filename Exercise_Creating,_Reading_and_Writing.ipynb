{
  "metadata": {
    "kernelspec": {
      "display_name": "Python 3",
      "language": "python",
      "name": "python3"
    },
    "language_info": {
      "name": "python",
      "version": "3.10.13",
      "mimetype": "text/x-python",
      "codemirror_mode": {
        "name": "ipython",
        "version": 3
      },
      "pygments_lexer": "ipython3",
      "nbconvert_exporter": "python",
      "file_extension": ".py"
    },
    "kaggle": {
      "accelerator": "none",
      "dataSources": [
        {
          "sourceId": 1252,
          "sourceType": "datasetVersion",
          "datasetId": 655
        },
        {
          "sourceId": 3919,
          "sourceType": "datasetVersion",
          "datasetId": 2321
        },
        {
          "sourceId": 4877,
          "sourceType": "datasetVersion",
          "datasetId": 2894
        },
        {
          "sourceId": 5624,
          "sourceType": "datasetVersion",
          "datasetId": 3491
        },
        {
          "sourceId": 8172,
          "sourceType": "datasetVersion",
          "datasetId": 1442
        },
        {
          "sourceId": 13206,
          "sourceType": "datasetVersion",
          "datasetId": 9366
        },
        {
          "sourceId": 403916,
          "sourceType": "datasetVersion",
          "datasetId": 179555
        },
        {
          "sourceId": 466349,
          "sourceType": "datasetVersion",
          "datasetId": 4549
        },
        {
          "sourceId": 1151655,
          "sourceType": "datasetVersion",
          "datasetId": 2478
        },
        {
          "sourceId": 5438389,
          "sourceType": "datasetVersion",
          "datasetId": 10128
        }
      ],
      "isInternetEnabled": false,
      "language": "python",
      "sourceType": "notebook",
      "isGpuEnabled": false
    },
    "colab": {
      "name": "Exercise: Creating, Reading and Writing",
      "provenance": [],
      "include_colab_link": true
    }
  },
  "nbformat_minor": 0,
  "nbformat": 4,
  "cells": [
    {
      "cell_type": "markdown",
      "metadata": {
        "id": "view-in-github",
        "colab_type": "text"
      },
      "source": [
        "<a href=\"https://colab.research.google.com/github/IrfanFathan/Data-Science/blob/main/Exercise_Creating%2C_Reading_and_Writing.ipynb\" target=\"_parent\"><img src=\"https://colab.research.google.com/assets/colab-badge.svg\" alt=\"Open In Colab\"/></a>"
      ]
    },
    {
      "source": [
        "\n",
        "# IMPORTANT: RUN THIS CELL IN ORDER TO IMPORT YOUR KAGGLE DATA SOURCES\n",
        "# TO THE CORRECT LOCATION (/kaggle/input) IN YOUR NOTEBOOK,\n",
        "# THEN FEEL FREE TO DELETE THIS CELL.\n",
        "# NOTE: THIS NOTEBOOK ENVIRONMENT DIFFERS FROM KAGGLE'S PYTHON\n",
        "# ENVIRONMENT SO THERE MAY BE MISSING LIBRARIES USED BY YOUR\n",
        "# NOTEBOOK.\n",
        "\n",
        "import os\n",
        "import sys\n",
        "from tempfile import NamedTemporaryFile\n",
        "from urllib.request import urlopen\n",
        "from urllib.parse import unquote, urlparse\n",
        "from urllib.error import HTTPError\n",
        "from zipfile import ZipFile\n",
        "import tarfile\n",
        "import shutil\n",
        "\n",
        "CHUNK_SIZE = 40960\n",
        "DATA_SOURCE_MAPPING = 'pitchfork-data:https%3A%2F%2Fstorage.googleapis.com%2Fkaggle-data-sets%2F655%2F1252%2Fbundle%2Farchive.zip%3FX-Goog-Algorithm%3DGOOG4-RSA-SHA256%26X-Goog-Credential%3Dgcp-kaggle-com%2540kaggle-161607.iam.gserviceaccount.com%252F20240228%252Fauto%252Fstorage%252Fgoog4_request%26X-Goog-Date%3D20240228T071750Z%26X-Goog-Expires%3D259200%26X-Goog-SignedHeaders%3Dhost%26X-Goog-Signature%3D2d6e02f62941d36b34a1398728e8897949d750b95576227512283c9237b964148bc3e9e49feabdaa1cd6b0f204a8163b45a9a111cf4ec54f04e0ef07f91c4b51ee8cecf377517a66c0967583ff9e46a03b6bf24da0ade83516dacab0e06cf956ddf1a03db52a8cafa765f0dabeadfeb8466962c76ac2942382376418de232f3579523275f2dd351273e572a87f9b2e581082df4f1701dc243d2d2d466bdb696cd405affd70f61b06f54b3117ba5973a6545e2b8e37b5b0a886bd17f2f3168619548f265be14f5a97e2c1b87571ebb1ba378b833bdccc395b07d813a7d288d1a608133dc6b4399429af5a3b6c99b52327ca2b9ee56d37af0cd23a4f7050686ecf,chess:https%3A%2F%2Fstorage.googleapis.com%2Fkaggle-data-sets%2F2321%2F3919%2Fbundle%2Farchive.zip%3FX-Goog-Algorithm%3DGOOG4-RSA-SHA256%26X-Goog-Credential%3Dgcp-kaggle-com%2540kaggle-161607.iam.gserviceaccount.com%252F20240228%252Fauto%252Fstorage%252Fgoog4_request%26X-Goog-Date%3D20240228T071750Z%26X-Goog-Expires%3D259200%26X-Goog-SignedHeaders%3Dhost%26X-Goog-Signature%3D9ac24fa8d2904b0bf57616746f6c41f8952c4fa692b02909c1ac2144baf1a997d8a91f1fb6afd79ab179b53e20da5589dcc20c11f93f731d8343593bfe202144fda7584ca7cc3ae39f8d810f47fe3f882f7adcc44bf85289e8b48d594e60dfff6a2d6661f5f0ce74326896f0deb3255e0cb36b2bf6b08a06ab9fdc65a0d42f92a02c3960a2c777ecee62b996bba2693122fb34967a0f439db62fa97b1673906e1553403d3875fdc999b286934bdcdbd2f03132899e47a927c6c494aabdcd62aff8a653c2162d381f8e1265db96ab5927319a60a62056a53bb8b36f2fa31c0f27b21cd679bce9356c87397fe6ee89e0dd77ff888708b15d29ecdbd4a6d698cf54,kepler-exoplanet-search-results:https%3A%2F%2Fstorage.googleapis.com%2Fkaggle-data-sets%2F2894%2F4877%2Fbundle%2Farchive.zip%3FX-Goog-Algorithm%3DGOOG4-RSA-SHA256%26X-Goog-Credential%3Dgcp-kaggle-com%2540kaggle-161607.iam.gserviceaccount.com%252F20240228%252Fauto%252Fstorage%252Fgoog4_request%26X-Goog-Date%3D20240228T071750Z%26X-Goog-Expires%3D259200%26X-Goog-SignedHeaders%3Dhost%26X-Goog-Signature%3D15039b85f1c71992c78ae348910db00c6e9155acb501ba260741f749159ac9099975ea2c0b2d20c4ec4d5b9857deea34bd06d406e083d14816ee634713410e1d31efad67317b7d84984c54abc9020126bfb5a956c20a4eaaab0c3e30a821b8c92a953a21889684ba68173b762bad865f3f2ec433097478b6b807666c2798acc6528d5e458711426225149c4936e8d65f2b9414b5d2e92d31e156ca18e8a470634ae95b4c29ec5fc2e6a01817802a117ab8930815f3f35ba7b0b988a454fb84fb2ee5ff64281658f9926ba47f6c8b6dcf65af46d4ec36961b2d11036241d822253a7253ed42c7c28093bb0879dfa052056effe17b643680284e5d7199143df10f,things-on-reddit:https%3A%2F%2Fstorage.googleapis.com%2Fkaggle-data-sets%2F3491%2F5624%2Fbundle%2Farchive.zip%3FX-Goog-Algorithm%3DGOOG4-RSA-SHA256%26X-Goog-Credential%3Dgcp-kaggle-com%2540kaggle-161607.iam.gserviceaccount.com%252F20240228%252Fauto%252Fstorage%252Fgoog4_request%26X-Goog-Date%3D20240228T071750Z%26X-Goog-Expires%3D259200%26X-Goog-SignedHeaders%3Dhost%26X-Goog-Signature%3D5cf623a2bb7ed0e13f14107e810bc0a2d9efee80eebc6f2c22ccca41126c8f7b7d6130b8b844ef37466b22c226a3421534b461272bf262582271500153a6c6d0de7475601af3c89a511c68c019dfc2d1a216e880d40e5b391009b68434d2848c6f67a7af586c65f0bb98f71de1cb6ac7e73f6eb78708d242b016809e00ae0b99845cb096dd4da57eb4dd54e8abb28faea1f6f747825b347ee09d88dfb251c53adbe2c98333dc5f7cac9c74d938f2af392159680b98d2ffc7cdafa3ca53df74c66c2c619a447022c2a3445ace228e1613aae7ddfe82107d3dea0cae4a2db5e1f5081548582e1884ce7e223a0adedf00f6dad34d549e61b9398da88dcdbe9276de,wine-reviews:https%3A%2F%2Fstorage.googleapis.com%2Fkaggle-data-sets%2F1442%2F8172%2Fbundle%2Farchive.zip%3FX-Goog-Algorithm%3DGOOG4-RSA-SHA256%26X-Goog-Credential%3Dgcp-kaggle-com%2540kaggle-161607.iam.gserviceaccount.com%252F20240228%252Fauto%252Fstorage%252Fgoog4_request%26X-Goog-Date%3D20240228T071750Z%26X-Goog-Expires%3D259200%26X-Goog-SignedHeaders%3Dhost%26X-Goog-Signature%3D00ae8341c5f8be9568574d9dda428ed7f50272971e6a4a65cf86751982b108e3adf6e684775ef139396c43bbaa1c3ba9c2f6a661c9d4520bb1a42e9934b0a92478c52a2947ec13969c3656c1ea6a5cd008616b6a76320521b33362e1b6458956265132aec53dd7506dc37d7f128ffaa00ae3446e6b110c978652a045ec7d5c9cad5fdcb9aa2387672c124ecf3c8fefeeed59b6d5dc007aca12e7f7599902f2eca84a62345a47364e493cf7cc45189310d8b805d9c702e9af5e604ada71599e02fa9bc6c9c6bd62557c619ec8caf3ff4dc1f36cc963b652ff43dcd374528b41871fb22afec845ff54129a53b48979ef5f4511374bcb350a587c767b7e9d847bbf,ramen-ratings:https%3A%2F%2Fstorage.googleapis.com%2Fkaggle-data-sets%2F9366%2F13206%2Fbundle%2Farchive.zip%3FX-Goog-Algorithm%3DGOOG4-RSA-SHA256%26X-Goog-Credential%3Dgcp-kaggle-com%2540kaggle-161607.iam.gserviceaccount.com%252F20240228%252Fauto%252Fstorage%252Fgoog4_request%26X-Goog-Date%3D20240228T071750Z%26X-Goog-Expires%3D259200%26X-Goog-SignedHeaders%3Dhost%26X-Goog-Signature%3D92f3948ec9fa7d9e119ca243d1847ff0cf87cc30b7348d6b8a8b10e671105bc1cf7f1025f1188e470219847c0e47c4c4c9245d42e0a71ec0d406b1cf05809640503ce942e68e08542150dc04be57bff04990a20018fbf65e28254cdd201a47fb042addfe16a90d6f502988db3949894039f725899382bc6e5301f6f2ec2c6dbb0f1f5600e50e7e05bcf5c68370ae4c3a2f5585b7305e70f925f27ede8184363ed0db587257525dca3eba70e3ffe11aaf99b9231f93840d05bbf83220aac39bc5e9e52780e965bdefa99ffe9125948bf5ef0d210df3988f08b4ac8dc97508c931caf3bcf924ac51cbcf842b2dde8831b61dfbf6934d5c000fd78e4d9e32625d84,powerlifting-database:https%3A%2F%2Fstorage.googleapis.com%2Fkaggle-data-sets%2F179555%2F403916%2Fbundle%2Farchive.zip%3FX-Goog-Algorithm%3DGOOG4-RSA-SHA256%26X-Goog-Credential%3Dgcp-kaggle-com%2540kaggle-161607.iam.gserviceaccount.com%252F20240228%252Fauto%252Fstorage%252Fgoog4_request%26X-Goog-Date%3D20240228T071750Z%26X-Goog-Expires%3D259200%26X-Goog-SignedHeaders%3Dhost%26X-Goog-Signature%3D4348f676c1891caa3d86740d392e131ae7c92f69e3e736a9bc74dcd8ff65b6e3045d142a2e3ccebc361891cb59c9afd737dd7078c50419db04bc1ae3f48258457d2e8c05c637d9a2181b60e57fa1370ede8b88c28e1173ebe2ce6b0796e1c1747795a20817ddb414b18e85dc2b6cfec68536fe21f1505fb2dc51285758ad3b831aedceabce96a495d99ee109752e0f0dcd48d2dcd45e47d7a6fb4bcc4588a6ba7aa19c11dc203256fcd29d088298de44534c88436dce3c4e781f68e4705a98e5d2cce5dac174fd397d49a97e8c154dd757c7cc8962190d332c07f838a2e6e44bb09af49b01f99252454d51007c4315a68321fb1d56c619dad7b710c3029c3ca8,youtube-new:https%3A%2F%2Fstorage.googleapis.com%2Fkaggle-data-sets%2F4549%2F466349%2Fbundle%2Farchive.zip%3FX-Goog-Algorithm%3DGOOG4-RSA-SHA256%26X-Goog-Credential%3Dgcp-kaggle-com%2540kaggle-161607.iam.gserviceaccount.com%252F20240228%252Fauto%252Fstorage%252Fgoog4_request%26X-Goog-Date%3D20240228T071750Z%26X-Goog-Expires%3D259200%26X-Goog-SignedHeaders%3Dhost%26X-Goog-Signature%3D5ec2360ad8a0eb13e9249447a2fc3d1e86cb5f2b3ed6700a391189ce3d25a77964b5088259b0a6832e142177278c60d791e53ae42703c9115c7723cfd58dbdc3a3f5537de6cd2e84dada93f648447a8ffc74b7976d7295de61572d63ac7f368de728ee0d612509011498dd6767f30929927954fb51ee07a3770620c74efa7033d56e120051b85550da92d9dcce6abe67e694a86143e3bd16d960e500eb862905471306e45b691d8d840909c1ad172463be36286be608a7302253bd58bbb2a173d601401fa01de11b5adc09c77fcd0619347762c43e3bfe1d3d5ac481b30dbac6e364e5aec3e332eee2f7791d9302d62f851835dad65e0767f1c479efb975f098,188-million-us-wildfires:https%3A%2F%2Fstorage.googleapis.com%2Fkaggle-data-sets%2F2478%2F1151655%2Fbundle%2Farchive.zip%3FX-Goog-Algorithm%3DGOOG4-RSA-SHA256%26X-Goog-Credential%3Dgcp-kaggle-com%2540kaggle-161607.iam.gserviceaccount.com%252F20240228%252Fauto%252Fstorage%252Fgoog4_request%26X-Goog-Date%3D20240228T071750Z%26X-Goog-Expires%3D259200%26X-Goog-SignedHeaders%3Dhost%26X-Goog-Signature%3D2aa9df0bd2df609357d93242acfb96ed00cd373c328c5ef606c33350e7b9c80ce740f9398ab491cbd9013fd7203ebe8b92b87b6657b1ddefafd38758ebdf079f614b6cfc1b0dcbaf16910dd5d45dca80fb07de2fa93a07c9cfdc869cea30fadf371c4711b7f70287f3d939b009e0efa56cbf8306a2917d1065c0837430ba1186acf93c5e355dc60dd8a762b741c0099aa40829d2b26ef6a7e9cb0145755a2d574d46a70b9a9b5803582c2dbf3fe297134ca7210780d81ef68a0d20fc620c00940646997fdce3ecf87b0be2912a2028c1a502cdbf2d8788ba1efcac578cbc6edece78411bc4a88a494d810ca6066045ec900d7f86609c485c07125e42ee76b3a2,publicassistance:https%3A%2F%2Fstorage.googleapis.com%2Fkaggle-data-sets%2F10128%2F5438389%2Fbundle%2Farchive.zip%3FX-Goog-Algorithm%3DGOOG4-RSA-SHA256%26X-Goog-Credential%3Dgcp-kaggle-com%2540kaggle-161607.iam.gserviceaccount.com%252F20240228%252Fauto%252Fstorage%252Fgoog4_request%26X-Goog-Date%3D20240228T071750Z%26X-Goog-Expires%3D259200%26X-Goog-SignedHeaders%3Dhost%26X-Goog-Signature%3Da40bb4af0ade027c6436ff0daf60f61f02d1ca6bc49d38bb2da2c5624b443bc284d807d868ba5b2fe79b5b0d596ba391be3383e80776dd166d0f7d320f3ff3ff82819bb3416140c850cf0eb32b35a81f3f395c517bf49ca9723024dc27d7bd6014cf94d115041726162cd31914b4aaf4d3e13e120c7873566ed0445a4c3ac8d564b3dbd2f0f059bf272de774a3ff2ce7f745d021ed1bd6e134a7babd0a12feb08ad6651661beaf88c18ef7ea475c5059c938bae0deb5c628633188641a83b08d34c32770643db22976fc0cbcacd1b12aad7fb8e849dac86e6868f2d8e5276d90a2832d184a9d61e11930bbb7ae21f4a1d0cd1390f649893f5633b00c80d1015d'\n",
        "\n",
        "KAGGLE_INPUT_PATH='/kaggle/input'\n",
        "KAGGLE_WORKING_PATH='/kaggle/working'\n",
        "KAGGLE_SYMLINK='kaggle'\n",
        "\n",
        "!umount /kaggle/input/ 2> /dev/null\n",
        "shutil.rmtree('/kaggle/input', ignore_errors=True)\n",
        "os.makedirs(KAGGLE_INPUT_PATH, 0o777, exist_ok=True)\n",
        "os.makedirs(KAGGLE_WORKING_PATH, 0o777, exist_ok=True)\n",
        "\n",
        "try:\n",
        "  os.symlink(KAGGLE_INPUT_PATH, os.path.join(\"..\", 'input'), target_is_directory=True)\n",
        "except FileExistsError:\n",
        "  pass\n",
        "try:\n",
        "  os.symlink(KAGGLE_WORKING_PATH, os.path.join(\"..\", 'working'), target_is_directory=True)\n",
        "except FileExistsError:\n",
        "  pass\n",
        "\n",
        "for data_source_mapping in DATA_SOURCE_MAPPING.split(','):\n",
        "    directory, download_url_encoded = data_source_mapping.split(':')\n",
        "    download_url = unquote(download_url_encoded)\n",
        "    filename = urlparse(download_url).path\n",
        "    destination_path = os.path.join(KAGGLE_INPUT_PATH, directory)\n",
        "    try:\n",
        "        with urlopen(download_url) as fileres, NamedTemporaryFile() as tfile:\n",
        "            total_length = fileres.headers['content-length']\n",
        "            print(f'Downloading {directory}, {total_length} bytes compressed')\n",
        "            dl = 0\n",
        "            data = fileres.read(CHUNK_SIZE)\n",
        "            while len(data) > 0:\n",
        "                dl += len(data)\n",
        "                tfile.write(data)\n",
        "                done = int(50 * dl / int(total_length))\n",
        "                sys.stdout.write(f\"\\r[{'=' * done}{' ' * (50-done)}] {dl} bytes downloaded\")\n",
        "                sys.stdout.flush()\n",
        "                data = fileres.read(CHUNK_SIZE)\n",
        "            if filename.endswith('.zip'):\n",
        "              with ZipFile(tfile) as zfile:\n",
        "                zfile.extractall(destination_path)\n",
        "            else:\n",
        "              with tarfile.open(tfile.name) as tarfile:\n",
        "                tarfile.extractall(destination_path)\n",
        "            print(f'\\nDownloaded and uncompressed: {directory}')\n",
        "    except HTTPError as e:\n",
        "        print(f'Failed to load (likely expired) {download_url} to path {destination_path}')\n",
        "        continue\n",
        "    except OSError as e:\n",
        "        print(f'Failed to load {download_url} to path {destination_path}')\n",
        "        continue\n",
        "\n",
        "print('Data source import complete.')\n"
      ],
      "metadata": {
        "id": "uBy8C9xHk8mo"
      },
      "cell_type": "code",
      "outputs": [],
      "execution_count": null
    },
    {
      "cell_type": "markdown",
      "source": [
        "**This notebook is an exercise in the [Pandas](https://www.kaggle.com/learn/pandas) course.  You can reference the tutorial at [this link](https://www.kaggle.com/residentmario/creating-reading-and-writing).**\n",
        "\n",
        "---\n"
      ],
      "metadata": {
        "id": "pxJF5dcck8mv"
      }
    },
    {
      "cell_type": "markdown",
      "source": [
        "# Introduction\n",
        "\n",
        "The first step in most data analytics projects is reading the data file. In this exercise, you'll create Series and DataFrame objects, both by hand and by reading data files.\n",
        "\n",
        "Run the code cell below to load libraries you will need (including code to check your answers)."
      ],
      "metadata": {
        "id": "huussOydk8my"
      }
    },
    {
      "cell_type": "code",
      "source": [
        "import pandas as pd\n",
        "pd.set_option('display.max_rows', 5)\n",
        "from learntools.core import binder; binder.bind(globals())\n",
        "from learntools.pandas.creating_reading_and_writing import *\n",
        "print(\"Setup complete.\")"
      ],
      "metadata": {
        "execution": {
          "iopub.status.busy": "2024-02-28T06:27:34.703719Z",
          "iopub.execute_input": "2024-02-28T06:27:34.704336Z",
          "iopub.status.idle": "2024-02-28T06:27:34.712169Z",
          "shell.execute_reply.started": "2024-02-28T06:27:34.704118Z",
          "shell.execute_reply": "2024-02-28T06:27:34.711039Z"
        },
        "trusted": true,
        "id": "lR4qZw4ck8mz"
      },
      "execution_count": null,
      "outputs": []
    },
    {
      "cell_type": "markdown",
      "source": [
        "# Exercises"
      ],
      "metadata": {
        "id": "brTqvSInk8mz"
      }
    },
    {
      "cell_type": "markdown",
      "source": [
        "## 1.\n",
        "\n",
        "In the cell below, create a DataFrame `fruits` that looks like this:\n",
        "\n",
        "![](https://storage.googleapis.com/kaggle-media/learn/images/Ax3pp2A.png)"
      ],
      "metadata": {
        "id": "e9ydUUM1k8m0"
      }
    },
    {
      "cell_type": "code",
      "source": [
        "# Your code goes here. Create a dataframe matching the above diagram and assign it to the variable fruits.\n",
        "import pandas as pd\n",
        "fruits = pd.DataFrame({'Apples':[30],'Bananas':[21]})\n",
        "\n",
        "# Check your answer\n",
        "q1.check()\n",
        "fruits"
      ],
      "metadata": {
        "execution": {
          "iopub.status.busy": "2024-02-28T06:27:34.975438Z",
          "iopub.execute_input": "2024-02-28T06:27:34.975902Z",
          "iopub.status.idle": "2024-02-28T06:27:34.995667Z",
          "shell.execute_reply.started": "2024-02-28T06:27:34.975867Z",
          "shell.execute_reply": "2024-02-28T06:27:34.994525Z"
        },
        "trusted": true,
        "id": "V8GfT-CVk8m0"
      },
      "execution_count": null,
      "outputs": []
    },
    {
      "cell_type": "code",
      "source": [
        "#q1.hint()\n",
        "#q1.solution()"
      ],
      "metadata": {
        "execution": {
          "iopub.status.busy": "2024-02-28T06:27:34.997988Z",
          "iopub.execute_input": "2024-02-28T06:27:34.998934Z",
          "iopub.status.idle": "2024-02-28T06:27:35.004989Z",
          "shell.execute_reply.started": "2024-02-28T06:27:34.998865Z",
          "shell.execute_reply": "2024-02-28T06:27:35.003559Z"
        },
        "trusted": true,
        "id": "5_edc6sUk8m1"
      },
      "execution_count": null,
      "outputs": []
    },
    {
      "cell_type": "markdown",
      "source": [
        "## 2.\n",
        "\n",
        "Create a dataframe `fruit_sales` that matches the diagram below:\n",
        "\n",
        "![](https://storage.googleapis.com/kaggle-media/learn/images/CHPn7ZF.png)"
      ],
      "metadata": {
        "id": "FWlWRHdnk8m2"
      }
    },
    {
      "cell_type": "code",
      "source": [
        "# Your code goes here. Create a dataframe matching the above diagram and assign it to the variable fruit_sales.\n",
        "fruit_sales =pd.DataFrame({'Apples':[35,41],'Bananas':[21,34]},index=['2017 Sales','2018 Sales'])\n",
        "\n",
        "# Check your answer\n",
        "q2.check()\n",
        "fruit_sales"
      ],
      "metadata": {
        "execution": {
          "iopub.status.busy": "2024-02-28T06:57:50.012618Z",
          "iopub.execute_input": "2024-02-28T06:57:50.013111Z",
          "iopub.status.idle": "2024-02-28T06:57:50.037524Z",
          "shell.execute_reply.started": "2024-02-28T06:57:50.013074Z",
          "shell.execute_reply": "2024-02-28T06:57:50.035813Z"
        },
        "trusted": true,
        "id": "LeK2TY1qk8m2"
      },
      "execution_count": null,
      "outputs": []
    },
    {
      "cell_type": "code",
      "source": [
        "q2.hint()\n",
        "#q2.solution()"
      ],
      "metadata": {
        "execution": {
          "iopub.status.busy": "2024-02-28T06:28:10.694442Z",
          "iopub.execute_input": "2024-02-28T06:28:10.694894Z",
          "iopub.status.idle": "2024-02-28T06:28:10.706397Z",
          "shell.execute_reply.started": "2024-02-28T06:28:10.69486Z",
          "shell.execute_reply": "2024-02-28T06:28:10.704849Z"
        },
        "trusted": true,
        "id": "36IpRmgkk8m3"
      },
      "execution_count": null,
      "outputs": []
    },
    {
      "cell_type": "markdown",
      "source": [
        "## 3.\n",
        "\n",
        "Create a variable `ingredients` with a Series that looks like:\n",
        "\n",
        "```\n",
        "Flour     4 cups\n",
        "Milk       1 cup\n",
        "Eggs     2 large\n",
        "Spam       1 can\n",
        "Name: Dinner, dtype: object\n",
        "```"
      ],
      "metadata": {
        "id": "kG0gxR7pk8m3"
      }
    },
    {
      "cell_type": "code",
      "source": [
        "ingredients = pd.Series(['4 cups','1 cup','2 large','1 can'],index=['Flour','Milk','Eggs','Spam'],name='Dinner')\n",
        "\n",
        "# Check your answer\n",
        "q3.check()\n",
        "ingredients"
      ],
      "metadata": {
        "execution": {
          "iopub.status.busy": "2024-02-28T07:03:31.664164Z",
          "iopub.execute_input": "2024-02-28T07:03:31.664639Z",
          "iopub.status.idle": "2024-02-28T07:03:31.684691Z",
          "shell.execute_reply.started": "2024-02-28T07:03:31.664605Z",
          "shell.execute_reply": "2024-02-28T07:03:31.68322Z"
        },
        "trusted": true,
        "id": "2ymMBRNEk8m3"
      },
      "execution_count": null,
      "outputs": []
    },
    {
      "cell_type": "code",
      "source": [
        "#q3.hint()\n",
        "#q3.solution()"
      ],
      "metadata": {
        "execution": {
          "iopub.status.busy": "2024-02-28T06:27:35.062896Z",
          "iopub.execute_input": "2024-02-28T06:27:35.063473Z",
          "iopub.status.idle": "2024-02-28T06:27:35.069284Z",
          "shell.execute_reply.started": "2024-02-28T06:27:35.063415Z",
          "shell.execute_reply": "2024-02-28T06:27:35.068193Z"
        },
        "trusted": true,
        "id": "zXnP7zVRk8m4"
      },
      "execution_count": null,
      "outputs": []
    },
    {
      "cell_type": "markdown",
      "source": [
        "## 4.\n",
        "\n",
        "Read the following csv dataset of wine reviews into a DataFrame called `reviews`:\n",
        "\n",
        "![](https://storage.googleapis.com/kaggle-media/learn/images/74RCZtU.png)\n",
        "\n",
        "The filepath to the csv file is `../input/wine-reviews/winemag-data_first150k.csv`. The first few lines look like:\n",
        "\n",
        "```\n",
        ",country,description,designation,points,price,province,region_1,region_2,variety,winery\n",
        "0,US,\"This tremendous 100% varietal wine[...]\",Martha's Vineyard,96,235.0,California,Napa Valley,Napa,Cabernet Sauvignon,Heitz\n",
        "1,Spain,\"Ripe aromas of fig, blackberry and[...]\",Carodorum Selección Especial Reserva,96,110.0,Northern Spain,Toro,,Tinta de Toro,Bodega Carmen Rodríguez\n",
        "```"
      ],
      "metadata": {
        "id": "OQu2ce6lk8m4"
      }
    },
    {
      "cell_type": "code",
      "source": [
        "reviews =pd.read_csv('../input/wine-reviews/winemag-data_first150k.csv',index_col=0)\n",
        "\n",
        "# Check your answer\n",
        "q4.check()\n",
        "reviews"
      ],
      "metadata": {
        "execution": {
          "iopub.status.busy": "2024-02-28T07:09:31.397131Z",
          "iopub.execute_input": "2024-02-28T07:09:31.397885Z",
          "iopub.status.idle": "2024-02-28T07:09:32.623644Z",
          "shell.execute_reply.started": "2024-02-28T07:09:31.397849Z",
          "shell.execute_reply": "2024-02-28T07:09:32.622322Z"
        },
        "trusted": true,
        "id": "-O-B4GjDk8m4"
      },
      "execution_count": null,
      "outputs": []
    },
    {
      "cell_type": "code",
      "source": [
        "#q4.hint()\n",
        "#q4.solution()"
      ],
      "metadata": {
        "execution": {
          "iopub.status.busy": "2024-02-28T06:27:35.094528Z",
          "iopub.execute_input": "2024-02-28T06:27:35.095056Z",
          "iopub.status.idle": "2024-02-28T06:27:35.101484Z",
          "shell.execute_reply.started": "2024-02-28T06:27:35.09501Z",
          "shell.execute_reply": "2024-02-28T06:27:35.099689Z"
        },
        "trusted": true,
        "id": "FdT8Oo4tk8m5"
      },
      "execution_count": null,
      "outputs": []
    },
    {
      "cell_type": "markdown",
      "source": [
        "## 5.\n",
        "\n",
        "Run the cell below to create and display a DataFrame called `animals`:"
      ],
      "metadata": {
        "id": "FnIcvJ1-k8m5"
      }
    },
    {
      "cell_type": "code",
      "source": [
        "animals = pd.DataFrame({'Cows': [12, 20], 'Goats': [22, 19]}, index=['Year 1', 'Year 2'])\n",
        "animals"
      ],
      "metadata": {
        "execution": {
          "iopub.status.busy": "2024-02-28T06:27:35.103681Z",
          "iopub.execute_input": "2024-02-28T06:27:35.104487Z",
          "iopub.status.idle": "2024-02-28T06:27:35.124766Z",
          "shell.execute_reply.started": "2024-02-28T06:27:35.104442Z",
          "shell.execute_reply": "2024-02-28T06:27:35.122824Z"
        },
        "trusted": true,
        "id": "HgzRLpAtk8m5"
      },
      "execution_count": null,
      "outputs": []
    },
    {
      "cell_type": "markdown",
      "source": [
        "In the cell below, write code to save this DataFrame to disk as a csv file with the name `cows_and_goats.csv`."
      ],
      "metadata": {
        "id": "h4Jp8zkSk8m5"
      }
    },
    {
      "cell_type": "code",
      "source": [
        "# Your code goes here\n",
        "animals.to_csv('cows_and_goats.csv')\n",
        "# Check your answer\n",
        "q5.check()"
      ],
      "metadata": {
        "execution": {
          "iopub.status.busy": "2024-02-28T07:13:14.10331Z",
          "iopub.execute_input": "2024-02-28T07:13:14.103779Z",
          "iopub.status.idle": "2024-02-28T07:13:14.128874Z",
          "shell.execute_reply.started": "2024-02-28T07:13:14.103744Z",
          "shell.execute_reply": "2024-02-28T07:13:14.127563Z"
        },
        "trusted": true,
        "id": "TbIOjDDsk8m6"
      },
      "execution_count": null,
      "outputs": []
    },
    {
      "cell_type": "code",
      "source": [
        "#q5.hint()\n",
        "q5.solution()"
      ],
      "metadata": {
        "execution": {
          "iopub.status.busy": "2024-02-28T07:11:57.370314Z",
          "iopub.execute_input": "2024-02-28T07:11:57.370772Z",
          "iopub.status.idle": "2024-02-28T07:11:57.385273Z",
          "shell.execute_reply.started": "2024-02-28T07:11:57.37074Z",
          "shell.execute_reply": "2024-02-28T07:11:57.382475Z"
        },
        "trusted": true,
        "id": "du6D0R4lk8m6"
      },
      "execution_count": null,
      "outputs": []
    },
    {
      "cell_type": "markdown",
      "source": [
        "# Keep going\n",
        "\n",
        "Move on to learn about **[indexing, selecting and assigning](https://www.kaggle.com/residentmario/indexing-selecting-assigning)**."
      ],
      "metadata": {
        "id": "f6o2f3NKk8m6"
      }
    },
    {
      "cell_type": "markdown",
      "source": [
        "---\n",
        "\n",
        "\n",
        "\n",
        "\n",
        "*Have questions or comments? Visit the [course discussion forum](https://www.kaggle.com/learn/pandas/discussion) to chat with other learners.*"
      ],
      "metadata": {
        "id": "y1y2JXnhk8m6"
      }
    }
  ]
}